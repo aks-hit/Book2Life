{
  "nbformat": 4,
  "nbformat_minor": 0,
  "metadata": {
    "colab": {
      "provenance": [],
      "authorship_tag": "ABX9TyMxmHS8sEeUSvSEHboDjMzA",
      "include_colab_link": true
    },
    "kernelspec": {
      "name": "python3",
      "display_name": "Python 3"
    },
    "language_info": {
      "name": "python"
    }
  },
  "cells": [
    {
      "cell_type": "markdown",
      "metadata": {
        "id": "view-in-github",
        "colab_type": "text"
      },
      "source": [
        "<a href=\"https://colab.research.google.com/github/aks-hit/Book2Life/blob/main/Character_Image_Generation_from_Books.ipynb\" target=\"_parent\"><img src=\"https://colab.research.google.com/assets/colab-badge.svg\" alt=\"Open In Colab\"/></a>"
      ]
    },
    {
      "cell_type": "code",
      "source": [
        "from langchain.vectorstores import Chroma  # Chroma vector store\n",
        "from langchain.embeddings import CohereEmbeddings  # Cohere embeddings\n",
        "from langchain.text_splitter import RecursiveCharacterTextSplitter  # Recursive character text splitter\n",
        "from langchain.llms import Cohere  # Cohere LLM\n",
        "from langchain.chains import VectorDBQA  # VectorDBQA chain\n",
        "from langchain.document_loaders import PyMuPDFLoader  # PyMuPDF document loaders. Read more: https://pymupdf.readthedocs.io/en/latest/\n",
        "import os\n",
        "import io\n",
        "import warnings\n",
        "from PIL import Image\n",
        "from stability_sdk import client  # Stability SDK\n",
        "import stability_sdk.interfaces.gooseai.generation.generation_pb2 as generation"
      ],
      "metadata": {
        "id": "ldZssOFlvAFw"
      },
      "execution_count": 3,
      "outputs": []
    },
    {
      "cell_type": "code",
      "source": [
        "os.environ[\"COHERE_API_KEY\"] = \"Your_COHERE_API_KEY\"\n",
        "\n",
        "os.environ['STABILITY_HOST'] = 'grpc.stability.ai:443'  # Host URL should not be prepended with \"https\" nor should it have a trailing slash.\n",
        "os.environ[\"STABILITY_KEY\"] = \"Your_STABILITY_KEY\""
      ],
      "metadata": {
        "id": "8wMKY4J5vpJy"
      },
      "execution_count": 4,
      "outputs": []
    },
    {
      "cell_type": "code",
      "source": [
        "loader = PyMuPDFLoader(\"/content/The Complete Harry Potter (Harry Potter and the Sorcerer's Stone; Harry Potter and the Chamber of Secrets; Harry Potter and the Prisoner of Azkaban; Harry Potter and the Goblet of Fire; Harry Potter and the Order .pdf\")  # Replace with your file path\n",
        "documents = loader.load()"
      ],
      "metadata": {
        "id": "o-PTYUGWwGba"
      },
      "execution_count": 43,
      "outputs": []
    },
    {
      "cell_type": "code",
      "source": [
        "text_splitter = RecursiveCharacterTextSplitter(chunk_size=1000, chunk_overlap=0)\n",
        "texts = text_splitter.split_documents(documents)"
      ],
      "metadata": {
        "id": "ofpqfrM1wpnC"
      },
      "execution_count": 44,
      "outputs": []
    },
    {
      "cell_type": "code",
      "source": [
        "embeddings = CohereEmbeddings(cohere_api_key=os.environ[\"COHERE_API_KEY\"])  # Create Cohere embeddings\n",
        "vectordb = Chroma.from_documents(texts, embeddings)  # Create Chroma vector store"
      ],
      "metadata": {
        "id": "uW7WLN9-wwGE"
      },
      "execution_count": 45,
      "outputs": []
    },
    {
      "cell_type": "code",
      "source": [
        "qa = VectorDBQA.from_chain_type(llm=Cohere(cohere_api_key=os.environ[\"COHERE_API_KEY\"]), chain_type=\"stuff\", vectorstore=vectordb)  # Create QA chain"
      ],
      "metadata": {
        "colab": {
          "base_uri": "https://localhost:8080/"
        },
        "id": "GL1xRl9Mw1x4",
        "outputId": "f358ce56-5a93-48cc-8453-1af147900730"
      },
      "execution_count": 46,
      "outputs": [
        {
          "output_type": "stream",
          "name": "stderr",
          "text": [
            "/usr/local/lib/python3.10/dist-packages/langchain/chains/retrieval_qa/base.py:256: UserWarning: `VectorDBQA` is deprecated - please use `from langchain.chains import RetrievalQA`\n",
            "  warnings.warn(\n"
          ]
        }
      ]
    },
    {
      "cell_type": "code",
      "source": [
        "query = \"Can you tell me more about Hermoine style, behaviour and character\"  # Feel free to change the query to your own\n",
        "qa.run(query)"
      ],
      "metadata": {
        "colab": {
          "base_uri": "https://localhost:8080/",
          "height": 244
        },
        "id": "397Ez2iIw9AO",
        "outputId": "e4835d53-973f-4ba1-e4c9-42b3c5742ee5"
      },
      "execution_count": 47,
      "outputs": [
        {
          "output_type": "execute_result",
          "data": {
            "text/plain": [
              "' Hermione is a smart and ambitious student who excels in academics and is passionate about learning. \\n\\nShe is known for her dedication to studying and completing homework, even while recovering in the hospital wing after a mysterious disappearance. \\nHer behavior is described as brisk and improved after recovering from a mysterious incident that caused hair to grow on her face. \\nShe is also known for being a key member of the group of friends that include Harry and Ron. \\n\\nOverall, Hermione is an intelligent and diligent character who values academic achievement and strives to maintain her studies even during challenging circumstances.  It\\'s important to note that the context provided is limited and only captures a small portion of Hermione\\'s character and behavior within the book \"Harry Potter and the Half-Blood Prince.\" To understand more about Hermione\\'s style, behavior, and character, it would be beneficial to explore the entire series and witness her journey and development throughout the storylines. '"
            ],
            "application/vnd.google.colaboratory.intrinsic+json": {
              "type": "string"
            }
          },
          "metadata": {},
          "execution_count": 47
        }
      ]
    },
    {
      "cell_type": "code",
      "source": [
        "# Set up our connection to the API.\n",
        "stability_api = client.StabilityInference(\n",
        "    key=os.environ['STABILITY_KEY'], # API Key reference.\n",
        "    verbose=True, # Print debug messages.\n",
        "    engine=\"stable-diffusion-xl-beta-v2-2-2\", # Set the engine to use for generation.\n",
        "    # Available engines: stable-diffusion-v1 stable-diffusion-v1-5 stable-diffusion-512-v2-0 stable-diffusion-768-v2-0\n",
        "    # stable-diffusion-512-v2-1 stable-diffusion-768-v2-1 stable-diffusion-xl-beta-v2-2-2 stable-inpainting-v1-0 stable-inpainting-512-v2-0\n",
        ")\n"
      ],
      "metadata": {
        "colab": {
          "base_uri": "https://localhost:8080/"
        },
        "id": "AFb2WxPn0ILE",
        "outputId": "0354b8e5-2625-4886-86e2-45d0c01e4e9a"
      },
      "execution_count": 48,
      "outputs": [
        {
          "output_type": "stream",
          "name": "stderr",
          "text": [
            "INFO:stability_sdk.client:Opening channel to grpc.stability.ai:443\n",
            "INFO:stability_sdk.client:Channel opened to grpc.stability.ai:443\n"
          ]
        }
      ]
    },
    {
      "cell_type": "code",
      "source": [
        "prompt = \"\"\"\n",
        "\n",
        "Hermione is a smart and ambitious student who excels in academics and is passionate about learning. \\n\\nShe is known for her dedication to studying and completing homework, even while recovering in the hospital wing after a mysterious disappearance. \\nHer behavior is described as brisk and improved after recovering from a mysterious incident that caused hair to grow on her face. \\nShe is also known for being a key member of the group of friends that include Harry and Ron. \\n\\nOverall, Hermione is an intelligent and diligent character who values academic achievement and strives to maintain her studies even during challenging circumstances.  It\\'s important to note that the context provided is limited and only captures a small portion of Hermione\\'s character and behavior within the book \"Harry Potter and the Half-Blood Prince.\" To understand more about Hermione\\'s style, behavior, and character, it would be beneficial to explore the entire series and witness her journey and development throughout the storylines.\n",
        "\n",
        "\"\"\""
      ],
      "metadata": {
        "id": "4S5b9_xs0cNu"
      },
      "execution_count": 50,
      "outputs": []
    },
    {
      "cell_type": "code",
      "source": [
        "# Set up our initial generation parameters.\n",
        "answers = stability_api.generate(\n",
        "    prompt=prompt, # The prompt to generate from.\n",
        "    seed=992446762, # If a seed is provided, the resulting generated image will be deterministic.\n",
        "                    # What this means is that as long as all generation parameters remain the same, you can always recall the same image simply by generating it again.\n",
        "                    # Note: This isn't quite the case for CLIP Guided generations, which we tackle in the CLIP Guidance documentation.\n",
        "    steps=40, # Amount of inference steps performed on image generation. Defaults to 30.\n",
        "    cfg_scale=7.0, # Influences how strongly your generation is guided to match your prompt.\n",
        "                # Setting this value higher increases the strength in which it tries to match your prompt.\n",
        "                # Defaults to 7.0 if not specified.\n",
        "    width=512, # Generation width, defaults to 512 if not included.\n",
        "    height=512, # Generation height, defaults to 512 if not included.\n",
        "    samples=1, # Number of images to generate, defaults to 1 if not included.\n",
        "    sampler=generation.SAMPLER_K_DPMPP_2M # Choose which sampler we want to denoise our generation with.\n",
        "                                                # Defaults to k_dpmpp_2m if not specified. Clip Guidance only supports ancestral samplers.\n",
        "                                                # (Available Samplers: ddim, plms, k_euler, k_euler_ancestral, k_heun, k_dpm_2, k_dpm_2_ancestral, k_dpmpp_2s_ancestral, k_lms, k_dpmpp_2m, k_dpmpp_sde)\n",
        ")"
      ],
      "metadata": {
        "id": "HZesT9tp059W"
      },
      "execution_count": 68,
      "outputs": []
    },
    {
      "cell_type": "code",
      "source": [
        "# Set up our warning to print to the console if the adult content classifier is tripped.\n",
        "# If adult content classifier is not tripped, save generated images.\n",
        "for resp in answers:\n",
        "    for artifact in resp.artifacts:\n",
        "        if artifact.finish_reason == generation.FILTER:\n",
        "            warnings.warn(\n",
        "                \"Your request activated the API's safety filters and could not be processed.\"\n",
        "                \"Please modify the prompt and try again.\")\n",
        "        if artifact.type == generation.ARTIFACT_IMAGE:\n",
        "            img = Image.open(io.BytesIO(artifact.binary))\n",
        "            img_path = img.save(str(artifact.seed)+ \".png\") # Save our generated images with their seed number as the filename."
      ],
      "metadata": {
        "colab": {
          "base_uri": "https://localhost:8080/"
        },
        "id": "5pEl3Qsi1JVy",
        "outputId": "3471febb-ce0e-437a-fee7-73e016d02049"
      },
      "execution_count": 69,
      "outputs": [
        {
          "output_type": "stream",
          "name": "stderr",
          "text": [
            "INFO:stability_sdk.client:Sending request.\n",
            "INFO:stability_sdk.client:Got answer d2600b60-e856-4d86-b1a3-96e4d6d46e5f with artifact types ['ARTIFACT_IMAGE', 'ARTIFACT_CLASSIFICATIONS'] in 5.58s\n"
          ]
        }
      ]
    },
    {
      "cell_type": "code",
      "source": [
        "# Display the image\n",
        "img.show()"
      ],
      "metadata": {
        "id": "LbMSFKP81Vyl"
      },
      "execution_count": 70,
      "outputs": []
    }
  ]
}